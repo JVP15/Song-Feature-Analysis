{
 "cells": [
  {
   "cell_type": "markdown",
   "metadata": {
    "collapsed": true,
    "pycharm": {
     "name": "#%% md\n"
    }
   },
   "source": [
    "## Dataset\n",
    "\n",
    "We are doing our analysis on [Spotify Multi-Genre Playlist Data](https://www.kaggle.com/siropo/spotify-multigenre-playlists-data).\n",
    "This dataset is a collection of song features taken from Spotify and separated into six broad genres of music. \n",
    "It is not a random sampling of songs on Spotify: each song was on a playlist made by the person who collected the dataset. \n",
    "However, there is still a wide variety of genres it will work for purposes of our analysis. \n",
    " \n",
    " The dataset has the following 22 columns:\n",
    "\n",
    "1. Artist Name\n",
    "2. Song Name\n",
    "3. Popularity: value from 1 to 100 that represents the song's popularity (magically determined by Spotify)\n",
    "4. Genres: a detailed list of the genres for each artist\n",
    "5. Playlist: the name of the playlist each song came from\n",
    "6. Danceability\n",
    "7. Energy\n",
    "8. Key\n",
    "9. Loudness\n",
    "9. Mode\n",
    "10. Speechiness\n",
    "11. Acousticness\n",
    "12. Instrumentalness\n",
    "13. Liveness\n",
    "14. Valence\n",
    "15. Tempo\n",
    "16. ID\n",
    "17. URI\n",
    "18. HRef\n",
    "19. Analysis_url\n",
    "19. Duration_Ms\n",
    "20. Time-Signature\n",
    "\n",
    "### Loading the dataset\n",
    "\n",
    "The dataset is broken into 6 files, with each file containing the songs from a single genre of music. \n",
    "Here, we load the files into memory and combine them into one dataset. \n",
    "We also drop the playlist, ID, URI, HRef, and Analysis_url columns because they are not relevant for our analysis. \n",
    "Since we will be combining all of the songs into a single dataset, we also have to add another column containing the genre of each song. "
   ]
  },
  {
   "cell_type": "code",
   "execution_count": 11,
   "outputs": [],
   "source": [
    "import pandas as pd\n",
    "\n",
    "def load_dataset(music_genre):\n",
    "    # First, we read the genre dataset into memeory\n",
    "    # Then we drop all of the columns we don't need\n",
    "    # and finally we add the genre column and return it \n",
    "    return pd.read_csv(f'{music_genre}_music_data.csv').drop(columns=['Playlist', 'id', 'uri', 'track_href', 'analysis_url']).assign(genre=music_genre)\n",
    "\n",
    "alternative = load_dataset('alternative')\n",
    "blues = load_dataset('blues')\n",
    "hiphop = load_dataset('hiphop')\n",
    "indie_alt = load_dataset('indie_alt')\n",
    "metal = load_dataset('metal')\n",
    "pop = load_dataset('pop')\n",
    "rock = load_dataset('rock')\n",
    "    \n",
    "dataset = pd.concat([alternative, blues, hiphop, indie_alt, metal, pop, rock])"
   ],
   "metadata": {
    "collapsed": false,
    "pycharm": {
     "name": "#%% \n",
     "is_executing": false
    }
   }
  },
  {
   "cell_type": "markdown",
   "source": [
    "### Dataset Meta Analysis\n",
    "\n",
    "Before analysing our dataset, we want to figure out what we are working with regards to the number of songs in each genre and the missing values. "
   ],
   "metadata": {
    "collapsed": false,
    "pycharm": {
     "name": "#%% md\n"
    }
   }
  },
  {
   "cell_type": "code",
   "execution_count": 13,
   "outputs": [
    {
     "name": "stdout",
     "text": [
      "Genre: alternative\n",
      "Number of songs: 2160\n",
      "Number of missing values: 0 \n",
      "\n",
      "Genre: blues\n",
      "Number of songs: 2050\n",
      "Number of missing values: 0 \n",
      "\n",
      "Genre: hiphop\n",
      "Number of songs: 2581\n",
      "Number of missing values: 0 \n",
      "\n",
      "Genre: indie_alt\n",
      "Number of songs: 4338\n",
      "Number of missing values: 0 \n",
      "\n",
      "Genre: metal\n",
      "Number of songs: 3045\n",
      "Number of missing values: 0 \n",
      "\n",
      "Genre: pop\n",
      "Number of songs: 3831\n",
      "Number of missing values: 0 \n",
      "\n",
      "Genre: rock\n",
      "Number of songs: 8747\n",
      "Number of missing values: 0 \n",
      "\n",
      "Number of songs in dataset: 26752\n"
     ],
     "output_type": "stream"
    }
   ],
   "source": [
    "def inspect_dataset(music_genre):\n",
    "    print('Genre:', music_genre)\n",
    "    print('Number of songs:', len(dataset[dataset['genre'] == music_genre]))\n",
    "    # thanks to Stack Overflow user piRSquared and their answer to this question:\n",
    "    # https://stackoverflow.com/a/38733583\n",
    "    print('Number of missing values:', (dataset[dataset['genre'] == music_genre].isna()).to_numpy().sum(), '\\n')\n",
    "\n",
    "genres = ['alternative', 'blues', 'hiphop', 'indie_alt', 'metal', 'pop', 'rock']\n",
    "\n",
    "for genre in genres:\n",
    "    inspect_dataset(genre)\n",
    "    \n",
    "print('Number of songs in dataset:', len(dataset))"
   ],
   "metadata": {
    "collapsed": false,
    "pycharm": {
     "name": "#%% \n",
     "is_executing": false
    }
   }
  },
  {
   "cell_type": "markdown",
   "source": [
    "Fortunately, there are no missing values in this dataset, so we don't have to worry about that. \n",
    "There is a disproportionately large number of rock songs, so if we end up building a classifier, it may end up being biased towards rock (that may not be a bad thing, but what do I know? I'm also biased towards rock)"
   ],
   "metadata": {
    "collapsed": false,
    "pycharm": {
     "name": "#%% md\n"
    }
   }
  }
 ],
 "metadata": {
  "kernelspec": {
   "display_name": "Python 3",
   "language": "python",
   "name": "python3"
  },
  "language_info": {
   "codemirror_mode": {
    "name": "ipython",
    "version": 2
   },
   "file_extension": ".py",
   "mimetype": "text/x-python",
   "name": "python",
   "nbconvert_exporter": "python",
   "pygments_lexer": "ipython2",
   "version": "2.7.6"
  },
  "pycharm": {
   "stem_cell": {
    "cell_type": "raw",
    "source": [],
    "metadata": {
     "collapsed": false
    }
   }
  }
 },
 "nbformat": 4,
 "nbformat_minor": 0
}