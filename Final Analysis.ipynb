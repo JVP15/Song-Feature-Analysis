{
 "cells": [
  {
   "cell_type": "markdown",
   "source": [
    "# Dataset\n",
    "\n",
    "We are doing our analysis on [Spotify Multi-Genre Playlist Data](https://www.kaggle.com/siropo/spotify-multigenre-playlists-data).\n",
    "This dataset is a collection of song features taken from Spotify and separated into six broad genres of music. \n",
    "Our analysis aims to answer to solve two problems:\n",
    "1. How do you predict the genre of a song based on its features\n",
    "2. What song features are more influential to a particular genre. \n",
    "\n",
    "It is not a random sampling of songs on Spotify: each song was on a playlist made by the person who collected the dataset. \n",
    "However, there is still a wide variety of genres it will work for purposes of our analysis. \n",
    " \n",
    "The dataset has the following 22 columns:\n",
    "\n",
    "1. Artist Name\n",
    "2. Song Name\n",
    "3. Popularity: value from 1 to 100 that represents the song's popularity (magically determined by Spotify)\n",
    "4. Genres: a detailed list of the genres for each artist\n",
    "5. Playlist: the name of the playlist each song came from\n",
    "6. Danceability\n",
    "7. Energy\n",
    "8. Key\n",
    "9. Loudness\n",
    "9. Mode\n",
    "10. Speechiness\n",
    "11. Acousticness\n",
    "12. Instrumentalness\n",
    "13. Liveness\n",
    "14. Valence\n",
    "15. Tempo\n",
    "16. ID\n",
    "17. URI\n",
    "18. HRef\n",
    "19. Analysis_url\n",
    "19. Duration_Ms\n",
    "20. Time-Signature\n",
    "\n",
    "## Loading the dataset\n",
    "\n",
    "The dataset is broken into 6 files, with each file containing the songs from a single genre of music. \n",
    "Here, we load the files into memory and combine them into one dataset. \n",
    "We also drop the playlist, ID, URI, HRef, and Analysis_url columns because they are not relevant for our analysis. \n",
    "Since we will be combining all of the songs into a single dataset, we also have to add another column containing the genre of each song. "
   ],
   "metadata": {
    "collapsed": false
   }
  },
  {
   "cell_type": "code",
   "execution_count": 1,
   "outputs": [],
   "source": [
    "import pandas as pd\n",
    "\n",
    "def load_dataset(music_genre):\n",
    "    # First, we read the genre dataset into memory\n",
    "    # Then we drop all of the columns we don't need\n",
    "    # and finally we add the genre column and return it \n",
    "    return pd.read_csv(f'{music_genre}_music_data.csv').drop(columns=['Playlist', 'id', 'uri', 'track_href', 'analysis_url']).assign(genre=music_genre)\n",
    "\n",
    "alternative = load_dataset('alternative')\n",
    "blues = load_dataset('blues')\n",
    "hiphop = load_dataset('hiphop')\n",
    "indie_alt = load_dataset('indie_alt')\n",
    "metal = load_dataset('metal')\n",
    "pop = load_dataset('pop')\n",
    "rock = load_dataset('rock')\n",
    "    \n",
    "dataset = pd.concat([alternative, blues, hiphop, indie_alt, metal, pop, rock])"
   ],
   "metadata": {
    "collapsed": false,
    "pycharm": {
     "name": "#%% \n",
     "is_executing": false
    }
   }
  },
  {
   "cell_type": "markdown",
   "source": [
    "# Analysis\n",
    "\n",
    "## Logistic Regression\n",
    "\n",
    "In the last logistic regression analysis, we determined variables are the least significant for identifying each genre. \n",
    "In this analysis, we will use forward variable selection to determine which variables are the most significant for distinguishing each genre. "
   ],
   "metadata": {
    "collapsed": false,
    "pycharm": {
     "name": "#%% md\n"
    }
   }
  },
  {
   "cell_type": "code",
   "execution_count": 4,
   "outputs": [
    {
     "name": "stdout",
     "text": [
      "metal:\n",
      "Variable: danceability | AIC: 8312.955035824893\n",
      "Variable: energy | AIC: 8347.655061837526\n",
      "Variable: key | AIC: 8444.48767802266\n",
      "Variable: loudness | AIC: 8370.366031262138\n",
      "Variable: mode | AIC: 8434.650483682153\n",
      "Variable: speechiness | AIC: 8442.08668592527\n",
      "Variable: acousticness | AIC: 7505.228783396055\n",
      "Variable: instrumentalness | AIC: 8267.592859738621\n",
      "Variable: liveness | AIC: 8432.68872354345\n",
      "Variable: valence | AIC: 8204.43510716199\n",
      "Variable: tempo | AIC: 8443.061843608466\n",
      "Variable: duration_ms | AIC: 8407.363875052868\n",
      "Best Variable: acousticness\n"
     ],
     "output_type": "stream"
    }
   ],
   "source": [
    "import statsmodels.api as sm\n",
    "import math\n",
    "\n",
    "def make_genre_training_data(genre_name):# collect all of the songs that belong to the given genre (and ignore any columns that aren't song features)\n",
    "    X_same_genre = dataset[dataset['genre'] == genre_name].loc[:, 'danceability':'duration_ms']\n",
    "    # Collect the songs that don't belong to the given genre (collect only a random sample to ensure a balanced dataset)\n",
    "    X_different_genre = dataset[dataset['genre'] != genre_name].loc[:,'danceability':'duration_ms'].sample(n=len(X_same_genre))\n",
    "    \n",
    "    X_train = pd.concat([X_same_genre, X_different_genre], ignore_index=True)\n",
    "    \n",
    "    # for the Y data, we just need to make a dataframe of all 1s or all 0s with the same length as the X data\n",
    "    Y_same_genre = pd.DataFrame(index=range(len(X_same_genre)), columns=['genre']).assign(genre=1)\n",
    "    Y_different_genre = pd.DataFrame(index=range(len(X_same_genre)), columns=['genre']).assign(genre=0)\n",
    "\n",
    "    Y_train = pd.concat([Y_same_genre,Y_different_genre], ignore_index=True)\n",
    "    \n",
    "    return X_train, Y_train\n",
    "\n",
    "def find_best_variable(genre_name):\n",
    "    \n",
    "    X_train, Y_train = make_genre_training_data(genre_name)\n",
    "    \n",
    "    lowest_aic = math.inf\n",
    "    best_variable = ''\n",
    "    \n",
    "    print(genre_name,':', sep='')\n",
    "    for col in X_train:\n",
    "        logistic_model = sm.Logit(Y_train, X_train[col]).fit(disp=0)\n",
    "        print('Variable:', col,'| AIC:', logistic_model.aic)\n",
    "        \n",
    "        if logistic_model.aic < lowest_aic:\n",
    "            lowest_aic = logistic_model.aic\n",
    "            best_variable = col\n",
    "    \n",
    "    print('Best Variable:', best_variable)\n",
    "\n",
    "find_best_variable('metal')"
   ],
   "metadata": {
    "collapsed": false,
    "pycharm": {
     "name": "#%% \n",
     "is_executing": false
    }
   }
  }
 ],
 "metadata": {
  "kernelspec": {
   "display_name": "Python 3",
   "language": "python",
   "name": "python3"
  },
  "language_info": {
   "codemirror_mode": {
    "name": "ipython",
    "version": 3
   },
   "file_extension": ".py",
   "mimetype": "text/x-python",
   "name": "python",
   "nbconvert_exporter": "python",
   "pygments_lexer": "ipython3",
   "version": "3.8.8"
  },
  "pycharm": {
   "stem_cell": {
    "cell_type": "raw",
    "source": [],
    "metadata": {
     "collapsed": false
    }
   }
  }
 },
 "nbformat": 4,
 "nbformat_minor": 1
}