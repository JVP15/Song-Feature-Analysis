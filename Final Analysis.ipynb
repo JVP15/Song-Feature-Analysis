{
 "cells": [
  {
   "cell_type": "markdown",
   "source": [
    "# Dataset\n",
    "\n",
    "We are doing our analysis on [Spotify Multi-Genre Playlist Data](https://www.kaggle.com/siropo/spotify-multigenre-playlists-data).\n",
    "This dataset is a collection of song features taken from Spotify and separated into six broad genres of music. \n",
    "Our analysis aims to answer to solve two problems:\n",
    "1. How do you predict the genre of a song based on its features\n",
    "2. What song features are more influential to a particular genre. \n",
    "\n",
    "It is not a random sampling of songs on Spotify: each song was on a playlist made by the person who collected the dataset. \n",
    "However, there is still a wide variety of genres it will work for purposes of our analysis. \n",
    " \n",
    "The dataset has the following 22 columns:\n",
    "\n",
    "1. Artist Name\n",
    "2. Song Name\n",
    "3. Popularity: value from 1 to 100 that represents the song's popularity (magically determined by Spotify)\n",
    "4. Genres: a detailed list of the genres for each artist\n",
    "5. Playlist: the name of the playlist each song came from\n",
    "6. Danceability\n",
    "7. Energy\n",
    "8. Key\n",
    "9. Loudness\n",
    "9. Mode\n",
    "10. Speechiness\n",
    "11. Acousticness\n",
    "12. Instrumentalness\n",
    "13. Liveness\n",
    "14. Valence\n",
    "15. Tempo\n",
    "16. ID\n",
    "17. URI\n",
    "18. HRef\n",
    "19. Analysis_url\n",
    "19. Duration_Ms\n",
    "20. Time-Signature\n",
    "\n",
    "## Loading the dataset\n",
    "\n",
    "The dataset is broken into 6 files, with each file containing the songs from a single genre of music. \n",
    "Here, we load the files into memory and combine them into one dataset. \n",
    "We also drop the playlist, ID, URI, HRef, and Analysis_url columns because they are not relevant for our analysis. \n",
    "Since we will be combining all of the songs into a single dataset, we also have to add another column containing the genre of each song. "
   ],
   "metadata": {
    "collapsed": false
   }
  },
  {
   "cell_type": "code",
   "execution_count": 2,
   "outputs": [],
   "source": [
    "import pandas as pd\n",
    "\n",
    "def load_dataset(music_genre):\n",
    "    # First, we read the genre dataset into memory\n",
    "    # Then we drop all of the columns we don't need\n",
    "    # and finally we add the genre column and return it \n",
    "    return pd.read_csv(f'{music_genre}_music_data.csv').drop(columns=['Playlist', 'id', 'uri', 'track_href', 'analysis_url']).assign(genre=music_genre)\n",
    "\n",
    "alternative = load_dataset('alternative')\n",
    "blues = load_dataset('blues')\n",
    "hiphop = load_dataset('hiphop')\n",
    "indie_alt = load_dataset('indie_alt')\n",
    "metal = load_dataset('metal')\n",
    "pop = load_dataset('pop')\n",
    "rock = load_dataset('rock')\n",
    "    \n",
    "dataset = pd.concat([alternative, blues, hiphop, indie_alt, metal, pop, rock])"
   ],
   "metadata": {
    "collapsed": false,
    "pycharm": {
     "name": "#%% \n",
     "is_executing": false
    }
   }
  },
  {
   "cell_type": "markdown",
   "source": [
    "# Analysis\n",
    "\n",
    "## Logistic Regression\n",
    "\n",
    "In the last logistic regression analysis, we determined variables are the least significant for identifying each genre. \n",
    "In this analysis, we will use forward variable selection to determine which variables are the most significant for distinguishing each genre. "
   ],
   "metadata": {
    "collapsed": false,
    "pycharm": {
     "name": "#%% md\n"
    }
   }
  },
  {
   "cell_type": "code",
   "execution_count": 11,
   "outputs": [
    {
     "name": "stdout",
     "text": [
      "metal:\n",
      "  Variable: danceability \t| aic: 8314.251570423245\n",
      "  Variable: energy \t| aic: 8348.664131487367\n",
      "  Variable: key \t| aic: 8444.53206638844\n",
      "  Variable: loudness \t| aic: 8375.154284305805\n",
      "  Variable: mode \t| aic: 8438.6702430024\n",
      "  Variable: speechiness \t| aic: 8437.818293349814\n",
      "  Variable: acousticness \t| aic: 7525.578482768849\n",
      "  Variable: instrumentalness \t| aic: 8285.922858061165\n",
      "  Variable: liveness \t| aic: 8422.243907612705\n",
      "  Variable: valence \t| aic: 8205.731753687065\n",
      "  Variable: tempo \t| aic: 8442.391793834204\n",
      "  Variable: duration_ms \t| aic: 8402.867841144049\n",
      "Best Variable: acousticness\n",
      "\n"
     ],
     "output_type": "stream"
    }
   ],
   "source": [
    "import statsmodels.api as sm\n",
    "import math\n",
    "\n",
    "def make_genre_training_data(genre_name):# collect all of the songs that belong to the given genre (and ignore any columns that aren't song features)\n",
    "    X_same_genre = dataset[dataset['genre'] == genre_name].loc[:, 'danceability':'duration_ms']\n",
    "    # Collect the songs that don't belong to the given genre (collect only a random sample to ensure a balanced dataset)\n",
    "    X_different_genre = dataset[dataset['genre'] != genre_name].loc[:,'danceability':'duration_ms'].sample(n=len(X_same_genre))\n",
    "    \n",
    "    X_train = pd.concat([X_same_genre, X_different_genre], ignore_index=True)\n",
    "    \n",
    "    # for the Y data, we just need to make a dataframe of all 1s or all 0s with the same length as the X data\n",
    "    Y_same_genre = pd.DataFrame(index=range(len(X_same_genre)), columns=['genre']).assign(genre=1)\n",
    "    Y_different_genre = pd.DataFrame(index=range(len(X_same_genre)), columns=['genre']).assign(genre=0)\n",
    "\n",
    "    Y_train = pd.concat([Y_same_genre,Y_different_genre], ignore_index=True)\n",
    "    \n",
    "    return X_train, Y_train"
   ],
   "metadata": {
    "collapsed": false,
    "pycharm": {
     "name": "#%% \n",
     "is_executing": false
    }
   }
  },
  {
   "cell_type": "markdown",
   "source": [
    "This function finds the most influential variable by building a separate logistic model for each feature and selecting the one with the lowest AIC score.\n",
    "By default, it just returns the name of the most influential variable. However, if its verbosity is set to a value greater than 0, it will\n",
    "also show the AIC score for each feature."
   ],
   "metadata": {
    "collapsed": false,
    "pycharm": {
     "name": "#%% md\n"
    }
   }
  },
  {
   "cell_type": "code",
   "execution_count": 15,
   "outputs": [],
   "source": [
    "def find_best_variable(genre_name, verbose=0):\n",
    "    \n",
    "    X_train, Y_train = make_genre_training_data(genre_name)\n",
    "    \n",
    "    lowest_aic = math.inf\n",
    "    best_variable = ''\n",
    "    \n",
    "    if verbose > 0:\n",
    "        print(f'{genre_name}:')\n",
    "    for col in X_train:\n",
    "        logistic_model = sm.Logit(Y_train, X_train[col]).fit(disp=0)\n",
    "        \n",
    "        if verbose > 0:\n",
    "            print('  Variable:', col,'\\t| aic:', logistic_model.aic)\n",
    "        \n",
    "        if logistic_model.aic < lowest_aic:\n",
    "            lowest_aic = logistic_model.aic\n",
    "            best_variable = col\n",
    "    \n",
    "    return best_variable"
   ],
   "metadata": {
    "collapsed": false,
    "pycharm": {
     "name": "#%% \n",
     "is_executing": false
    }
   }
  },
  {
   "cell_type": "code",
   "execution_count": 18,
   "outputs": [
    {
     "name": "stdout",
     "text": [
      "metal:\n",
      "  Variable: danceability \t| aic: 8315.35351471684\n",
      "  Variable: energy \t| aic: 8348.053445288784\n",
      "  Variable: key \t| aic: 8444.326503098675\n",
      "  Variable: loudness \t| aic: 8378.080791086475\n",
      "  Variable: mode \t| aic: 8436.918402439835\n",
      "  Variable: speechiness \t| aic: 8439.174986226144\n",
      "  Variable: acousticness \t| aic: 7460.97763718127\n",
      "  Variable: instrumentalness \t| aic: 8296.389772324055\n",
      "  Variable: liveness \t| aic: 8428.821406706025\n",
      "  Variable: valence \t| aic: 8214.683169953361\n",
      "  Variable: tempo \t| aic: 8442.591677267035\n",
      "  Variable: duration_ms \t| aic: 8405.216232530296\n",
      "Best Variable for Alternative: instrumentalness\n",
      "Best Variable for Blues: acousticness\n",
      "Best Variable for Hip Hop: speechiness\n",
      "Best Variable for Indie Alt: instrumentalness\n",
      "Best Variable for Metal: acousticness\n",
      "pop:\n",
      "  Variable: danceability \t| aic: 10566.802759422313\n",
      "  Variable: energy \t| aic: 10580.19406956776\n",
      "  Variable: key \t| aic: 10623.20297579958\n",
      "  Variable: loudness \t| aic: 10621.169375562775\n",
      "  Variable: mode \t| aic: 10591.31673200578\n",
      "  Variable: speechiness \t| aic: 10607.764199625792\n",
      "  Variable: acousticness \t| aic: 10324.034481429313\n",
      "  Variable: instrumentalness \t| aic: 10196.724563794198\n",
      "  Variable: liveness \t| aic: 10587.872182088766\n",
      "  Variable: valence \t| aic: 10618.2183162345\n",
      "  Variable: tempo \t| aic: 10620.642336415254\n",
      "  Variable: duration_ms \t| aic: 10584.533830859327\n",
      "Best Variable for Pop: instrumentalness\n",
      "Best Variable for Rock: speechiness\n"
     ],
     "output_type": "stream"
    }
   ],
   "source": [
    "find_best_variable('metal', verbose=1)\n",
    "print('Best Variable for Alternative:', find_best_variable('alternative'))\n",
    "print('Best Variable for Blues:', find_best_variable('blues'))\n",
    "print('Best Variable for Hip Hop:', find_best_variable('hiphop'))\n",
    "print('Best Variable for Indie Alt:', find_best_variable('indie_alt'))\n",
    "print('Best Variable for Metal:', find_best_variable('metal'))\n",
    "print('Best Variable for Pop:', find_best_variable('pop'))\n",
    "print('Best Variable for Rock:', find_best_variable('rock'))"
   ],
   "metadata": {
    "collapsed": false,
    "pycharm": {
     "name": "#%% \n",
     "is_executing": false
    }
   }
  }
 ],
 "metadata": {
  "kernelspec": {
   "display_name": "Python 3",
   "language": "python",
   "name": "python3"
  },
  "language_info": {
   "codemirror_mode": {
    "name": "ipython",
    "version": 3
   },
   "file_extension": ".py",
   "mimetype": "text/x-python",
   "name": "python",
   "nbconvert_exporter": "python",
   "pygments_lexer": "ipython3",
   "version": "3.8.8"
  },
  "pycharm": {
   "stem_cell": {
    "cell_type": "raw",
    "source": [],
    "metadata": {
     "collapsed": false
    }
   }
  }
 },
 "nbformat": 4,
 "nbformat_minor": 1
}